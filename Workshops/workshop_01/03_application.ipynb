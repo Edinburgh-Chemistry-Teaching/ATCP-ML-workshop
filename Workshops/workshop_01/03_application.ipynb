{
 "cells": [
  {
   "cell_type": "markdown",
   "metadata": {},
   "source": [
    "## Application to molecular property data"
   ]
  },
  {
   "cell_type": "markdown",
   "metadata": {},
   "source": [
    "<a rel=\"license\" href=\"https://creativecommons.org/licenses/by/4.0/\"><img alt=\"Creative Commons Licence\" style=\"width=50\" src=\"https://licensebuttons.net/l/by/4.0/88x31.png\" title='This work is licensed under a Creative Commons Attribution 4.0 International License.' align=\"right\"/></a>\n",
    "\n",
    "**Authors**: \n",
    "- Dr Antonia Mey (antonia.mey@ed.ac.uk)\n",
    "- Ryan Zhu \n"
   ]
  },
  {
   "cell_type": "markdown",
   "metadata": {},
   "source": [
    "**Questions:**\n",
    "- How can we use regressions and clustering on real data?\n",
    "\n",
    "**Objectives:**\n",
    "- Load the properties dataset and explore what it contains\n",
    "- Identify two properties that might correlate and learn a linear regression model"
   ]
  },
  {
   "cell_type": "markdown",
   "metadata": {},
   "source": [
    "**Jupyter cheat sheet**:\n",
    "- to run the currently highlighted cell, hold <kbd>&#x21E7; Shift</kbd> and press <kbd>&#x23ce; Enter</kbd>;\n",
    "- to get help for a specific function, place the cursor within the function's brackets, hold <kbd>&#x21E7; Shift</kbd>, and press <kbd>&#x21E5; Tab</kbd>;"
   ]
  },
  {
   "cell_type": "markdown",
   "metadata": {},
   "source": [
    "The data cosists of calculated HOMO and LUMO of 561 small molecules, at b3lyp/def2tzvp level using density functional theory. \n",
    "We are only working with computational data and we DO NOT compare to experiment. It is taken from [here](https://www.kaggle.com/datasets/aideesis/small-compounds-molecular-orbitals-dataset?resource=download)."
   ]
  },
  {
   "cell_type": "markdown",
   "metadata": {},
   "source": [
    "## Google Colab installs\n",
    "\n",
    "<div class=\"alert alert-warning\">\n",
    "The following cell installs necessary packages and downloads data if you are running this tutorial using Google Colab.<br>\n",
    "<b><i>Run this cell only if you are using Google Colab!</i></b></div>"
   ]
  },
  {
   "cell_type": "code",
   "execution_count": null,
   "metadata": {},
   "outputs": [],
   "source": [
    "!if [ -n \"$COLAB_RELEASE_TAG\" ]; then git clone https://github.com/Edinburgh-Chemistry-Teaching/ATCP_ML-workshop; fi\n",
    "import os\n",
    "os.chdir(f\"ATCP_ML-workshop{os.sep}Workshops{os.sep}workshop_01\")"
   ]
  },
  {
   "cell_type": "markdown",
   "metadata": {},
   "source": [
    "## 1. Loading the data"
   ]
  },
  {
   "cell_type": "code",
   "execution_count": null,
   "metadata": {},
   "outputs": [],
   "source": [
    "# Imports\n",
    "import glob\n",
    "import pandas as pd\n",
    "import numpy as np\n",
    "import matplotlib.pyplot as plt\n",
    "from sklearn import decomposition\n",
    "from sklearn import cluster\n",
    "import os\n",
    "import warnings\n",
    "warnings.filterwarnings(\"ignore\")"
   ]
  },
  {
   "cell_type": "code",
   "execution_count": null,
   "metadata": {},
   "outputs": [],
   "source": [
    "filename = \"molecular_descriptors.csv\"\n",
    "data = pd.read_csv(filename)\n",
    "data.head()"
   ]
  },
  {
   "cell_type": "markdown",
   "metadata": {},
   "source": [
    "## 2. Exploring the data\n",
    "\n",
    "The data consists of names for compounds, as well as various properties. The best way to familiarise with data is by plotting it. \n"
   ]
  },
  {
   "cell_type": "markdown",
   "metadata": {},
   "source": [
    "<div class=\"alert alert-success\">\n",
    "<b>Task 1:</b> Exploring the data\n",
    "\n",
    "- Plot different properties of the data frame to see how correlated they are.\n",
    "- Can you see any easy trends? Can you identify two properties that seem to be correlated to try and create a regression model?"
   ]
  },
  {
   "cell_type": "code",
   "execution_count": null,
   "metadata": {},
   "outputs": [],
   "source": [
    "### Your solution here:\n"
   ]
  },
  {
   "cell_type": "markdown",
   "metadata": {},
   "source": [
    "<details>\n",
    "<summary> <mark> Solution: </mark> </summary>\n",
    "\n",
    "```Python\n",
    "\n",
    "features_start_at = list(data.columns).index(\"ho\")\n",
    "feature_names = data.columns[features_start_at:]\n",
    "\n",
    "target_column = 'molecular_weight'\n",
    "\n",
    "# Create scatter plots for each column against the target column\n",
    "for column in feature_names:\n",
    "    if column != target_column:\n",
    "        plt.figure(figsize=(6, 4))\n",
    "        plt.scatter(data[target_column], data[column])\n",
    "        plt.xlabel(target_column)\n",
    "        plt.ylabel(column)\n",
    "        plt.title(f'{column} vs. {target_column}')\n",
    "        plt.grid(True)\n",
    "        plt.show()\n",
    "```\n",
    "\n",
    "</details>"
   ]
  },
  {
   "cell_type": "markdown",
   "metadata": {},
   "source": [
    "## 3. Regression analysis\n"
   ]
  },
  {
   "cell_type": "markdown",
   "metadata": {},
   "source": [
    "<div class=\"alert alert-success\">\n",
    "<b>Task 1: Pick two correlated properties and perform a regression analysis </b>\n",
    "\n",
    "- How predictive is your regression on the test data based on different test/train splits?\n",
    "\n",
    "</div>"
   ]
  },
  {
   "cell_type": "code",
   "execution_count": null,
   "metadata": {},
   "outputs": [],
   "source": [
    "### Your solution here:\n",
    "\n",
    "\n"
   ]
  },
  {
   "cell_type": "markdown",
   "metadata": {},
   "source": [
    "<details>\n",
    "<summary> <mark> Regression Testing Solution </mark> </summary>\n",
    "\n",
    "As an example, we pick molecular weight v. logP. \n",
    "If you want to know more about the partition coefficient the [Wikipedia](https://en.wikipedia.org/wiki/Partition_coefficient) entry is a good starting point \n",
    "\n",
    "Understanding logP is important for making drug molecules bioavailable in the body and an important property in drug design. \n",
    "\n",
    "```Python\n",
    "\n",
    "from sklearn.model_selection import train_test_split\n",
    "from sklearn.linear_model import LinearRegression\n",
    "from sklearn.metrics import mean_squared_error, r2_score\n",
    "\n",
    "# splitting data\n",
    "indices = np.arange(len(data['logp']))\n",
    "x = data[['molecular_weight']]\n",
    "y = data[['logp']]\n",
    "x_train, x_test, y_train, y_test, train_idx, test_idx = train_test_split(\n",
    "   x ,y ,indices, test_size=0.33, random_state=42)\n",
    "\n",
    "\n",
    "# Create linear regression object\n",
    "regr = LinearRegression()\n",
    "\n",
    "# Train the model using the training sets\n",
    "regr.fit(x_train, y_train)\n",
    "\n",
    "# Make predictions using the testing set and training set to work out the loss from the mean square error\n",
    "y_pred_test = regr.predict(x_test)\n",
    "y_pred_train = regr.predict(x_train)\n",
    "\n",
    "# The mean squared error that will give you the loss\n",
    "training_loss = mean_squared_error(y.values[train_idx], y_pred_train)\n",
    "test_loss = mean_squared_error(y.values[test_idx], y_pred_test)\n",
    "\n",
    "# The coefficient of determination: 1 is a perfect prediction and gives you an idea of the goodness of fit of the model\n",
    "print(\"Coefficient of determination: %.2f\" % r2_score(y_test, y_pred_test))\n",
    "\n",
    "# The coefficients these are the coefficients you have successfully fit the model with\n",
    "print(\"Coefficients: \\n\", regr.coef_)\n",
    "\n",
    "\n",
    "# Plot outputs\n",
    "figure = plt.figure(figsize=(6,6))\n",
    "plt.plot(x.values[test_idx], y_test, \"^\", label=\"Testing labels truth\", color='blue', alpha=0.3)\n",
    "plt.plot(x.values[test_idx], y_pred_test, \"+\", label=\"Testing labels prediction\", color='purple')\n",
    "plt.text(0, 20, f\"Training Loss: {training_loss:.5f}\")\n",
    "plt.text(0, 21, f\"Testing Loss: {test_loss:.5f}\")\n",
    "plt.xlabel('molecular weight')\n",
    "plt.ylabel('logP')\n",
    "plt.legend()\n",
    "\n",
    "```\n",
    "\n",
    "</details>"
   ]
  },
  {
   "cell_type": "markdown",
   "metadata": {},
   "source": [
    "## 4. Clustering analysis on the dataset"
   ]
  },
  {
   "cell_type": "markdown",
   "metadata": {},
   "source": [
    "<div class=\"alert alert-success\">\n",
    "<b>Task 3: K-means analysis of wine qualities </b>\n",
    "\n",
    "- Perform a k-means clustering on fermi energies v. molecular weight\n",
    "- Perform a DBSCAN clustering on fermi energies v. molecular weight\n",
    "- Does it make sense to cluster this data? Can you draw any conclusions from the clustering?\n",
    "\n",
    "</div>"
   ]
  },
  {
   "cell_type": "code",
   "execution_count": null,
   "metadata": {},
   "outputs": [],
   "source": [
    "### Your solution here\n",
    "\n"
   ]
  },
  {
   "cell_type": "markdown",
   "metadata": {},
   "source": [
    "<details>\n",
    "<summary> <mark> Solution for k-means:</mark> </summary>\n",
    "\n",
    "```Python\n",
    "\n",
    "import sklearn.cluster as skl_cluster\n",
    "import numpy as np\n",
    "\n",
    "new_data = data[['molecular_weight','fermi']]\n",
    "\n",
    "# kmeans\n",
    "Kmean = skl_cluster.KMeans(n_clusters=3)\n",
    "Kmean.fit(new_data)\n",
    "clusters = Kmean.predict(new_data)\n",
    "\n",
    "plt.scatter(new_data.values[:, 0], new_data.values[:, 1], s=5, linewidth=0, c=clusters)\n",
    "for cluster_x, cluster_y in Kmean.cluster_centers_:\n",
    "    plt.scatter(cluster_x, cluster_y, s=100, c='orange', marker='+')\n",
    "plt.show()\n",
    "\n",
    "```\n",
    "\n",
    "</details>"
   ]
  },
  {
   "cell_type": "markdown",
   "metadata": {},
   "source": [
    "<details>\n",
    "<summary> <mark> Solution for DBSCAN</mark> </summary>\n",
    "\n",
    "```Python\n",
    "\n",
    "import sklearn.cluster as skl_cluster\n",
    "import numpy as np\n",
    "\n",
    "new_data = data[['molecular_weight','fermi']]\n",
    "\n",
    "```\n",
    "\n",
    "</details>"
   ]
  },
  {
   "cell_type": "markdown",
   "metadata": {},
   "source": [
    "## END"
   ]
  },
  {
   "cell_type": "markdown",
   "metadata": {},
   "source": [
    "---"
   ]
  }
 ],
 "metadata": {
  "kernelspec": {
   "display_name": "Python 3 (ipykernel)",
   "language": "python",
   "name": "python3"
  },
  "language_info": {
   "codemirror_mode": {
    "name": "ipython",
    "version": 3
   },
   "file_extension": ".py",
   "mimetype": "text/x-python",
   "name": "python",
   "nbconvert_exporter": "python",
   "pygments_lexer": "ipython3",
   "version": "3.11.0"
  }
 },
 "nbformat": 4,
 "nbformat_minor": 4
}
